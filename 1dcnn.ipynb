{
 "cells": [
  {
   "cell_type": "code",
   "execution_count": 1,
   "metadata": {},
   "outputs": [],
   "source": [
    "import pandas as pd\n",
    "import numpy as np\n",
    "import os\n",
    "from utils import *"
   ]
  },
  {
   "cell_type": "code",
   "execution_count": 2,
   "metadata": {},
   "outputs": [],
   "source": [
    "x=loadpkl('/home/vibhav_student/2Dcnn/data/w_all_data/x_tokenised_preprocessed_qfix_pad_unk.pkl')\n",
    "vocab=loadpkl('/home/vibhav_student/2Dcnn/data/w_all_data/vocab_5-15_unk_qfix.pkl')"
   ]
  },
  {
   "cell_type": "code",
   "execution_count": 3,
   "metadata": {},
   "outputs": [
    {
     "data": {
      "text/plain": [
       "2384110"
      ]
     },
     "execution_count": 3,
     "metadata": {},
     "output_type": "execute_result"
    }
   ],
   "source": [
    "vocab.index('<PAD>')"
   ]
  },
  {
   "cell_type": "code",
   "execution_count": 4,
   "metadata": {},
   "outputs": [
    {
     "data": {
      "text/plain": [
       "(2256758, 15, 5, 1)"
      ]
     },
     "execution_count": 4,
     "metadata": {},
     "output_type": "execute_result"
    }
   ],
   "source": [
    "x.shape"
   ]
  },
  {
   "cell_type": "code",
   "execution_count": 5,
   "metadata": {},
   "outputs": [],
   "source": [
    "x=x.reshape(x.shape[0],x.shape[1]*x.shape[2],x.shape[-1])"
   ]
  },
  {
   "cell_type": "code",
   "execution_count": 6,
   "metadata": {},
   "outputs": [
    {
     "data": {
      "text/plain": [
       "(2256758, 75, 1)"
      ]
     },
     "execution_count": 6,
     "metadata": {},
     "output_type": "execute_result"
    }
   ],
   "source": [
    "x.shape"
   ]
  },
  {
   "cell_type": "code",
   "execution_count": 7,
   "metadata": {},
   "outputs": [
    {
     "data": {
      "text/plain": [
       "(75, 1)"
      ]
     },
     "execution_count": 7,
     "metadata": {},
     "output_type": "execute_result"
    }
   ],
   "source": [
    "x[1].shape"
   ]
  },
  {
   "cell_type": "code",
   "execution_count": 8,
   "metadata": {},
   "outputs": [
    {
     "data": {
      "text/plain": [
       "array([2384110])"
      ]
     },
     "execution_count": 8,
     "metadata": {},
     "output_type": "execute_result"
    }
   ],
   "source": [
    "x[1][0]"
   ]
  },
  {
   "cell_type": "code",
   "execution_count": 37,
   "metadata": {},
   "outputs": [],
   "source": [
    "pad_idx = [vocab.index('<PAD>')]\n",
    "\n",
    "l = x[1][x[1]!=pad_idx].reshape(-1,1)\n",
    "\n",
    "pad_arr = np.full((75, 1), pad_idx)\n",
    "\n",
    "idx = int((75-len(l))/2)\n",
    "pad_arr[idx:idx+len(l)]=l"
   ]
  },
  {
   "cell_type": "code",
   "execution_count": 60,
   "metadata": {},
   "outputs": [
    {
     "name": "stdout",
     "output_type": "stream",
     "text": [
      "CPU times: user 1min 29s, sys: 7.96 s, total: 1min 37s\n",
      "Wall time: 1min 34s\n"
     ]
    }
   ],
   "source": [
    "%%time\n",
    "pad_idx = [vocab.index('<PAD>')]\n",
    "# x = x.tolist()\n",
    "f_l = []\n",
    "for i,t in enumerate(x):\n",
    "    pad_arr = np.full((75, 1), pad_idx)\n",
    "#     pad_arr = np.full((75, 1), pad_idx).tolist()\n",
    "#     l = list(filter(lambda a: a != pad_idx, x[i]))\n",
    "    l = x[i][x[i]!=pad_idx].reshape(-1,1)\n",
    "    idx = int((75-len(l))/2)\n",
    "    pad_arr[idx:idx+len(l)]=l\n",
    "    f_l.append(pad_arr.tolist())"
   ]
  },
  {
   "cell_type": "code",
   "execution_count": 61,
   "metadata": {},
   "outputs": [
    {
     "data": {
      "text/plain": [
       "(2256758, 75, 1)"
      ]
     },
     "execution_count": 61,
     "metadata": {},
     "output_type": "execute_result"
    }
   ],
   "source": [
    "np.array(f_l).shape"
   ]
  },
  {
   "cell_type": "code",
   "execution_count": 67,
   "metadata": {},
   "outputs": [],
   "source": [
    "savepkl('/home/vibhav_student/2Dcnn/data/w_all_data/x_tokenised_preprocessed_qfix_pad_unk_1D.pkl',np.array(f_l))"
   ]
  },
  {
   "cell_type": "code",
   "execution_count": 73,
   "metadata": {},
   "outputs": [
    {
     "name": "stdout",
     "output_type": "stream",
     "text": [
      "CPU times: user 9.55 s, sys: 250 ms, total: 9.8 s\n",
      "Wall time: 9.81 s\n"
     ]
    }
   ],
   "source": [
    "%%time\n",
    "pad_idx = [vocab.index('<PAD>')]\n",
    "# x = x.tolist()\n",
    "f_l_unpad = []\n",
    "for i,t in enumerate(x):\n",
    "    l = x[i][x[i]!=pad_idx].reshape(-1,1)\n",
    "    f_l_unpad.append(l)"
   ]
  },
  {
   "cell_type": "code",
   "execution_count": 76,
   "metadata": {},
   "outputs": [],
   "source": [
    "savepkl('/home/vibhav_student/2Dcnn/data/w_all_data/x_tokenised_preprocessed_qfix_1D.pkl',np.array(f_l_unpad))"
   ]
  },
  {
   "cell_type": "code",
   "execution_count": 119,
   "metadata": {},
   "outputs": [],
   "source": [
    "# df=pd.read_csv('/home/vibhav_student/2Dcnn/data/w_all_data/baseline_f_tq-tkn.csv')\n",
    "df=loadpkl('/home/vibhav_student/2Dcnn/data/w_all_data/baseline_f_tq-tkn-pad_qfix.csv')"
   ]
  },
  {
   "cell_type": "code",
   "execution_count": 120,
   "metadata": {},
   "outputs": [
    {
     "data": {
      "text/html": [
       "<div>\n",
       "<style scoped>\n",
       "    .dataframe tbody tr th:only-of-type {\n",
       "        vertical-align: middle;\n",
       "    }\n",
       "\n",
       "    .dataframe tbody tr th {\n",
       "        vertical-align: top;\n",
       "    }\n",
       "\n",
       "    .dataframe thead th {\n",
       "        text-align: right;\n",
       "    }\n",
       "</style>\n",
       "<table border=\"1\" class=\"dataframe\">\n",
       "  <thead>\n",
       "    <tr style=\"text-align: right;\">\n",
       "      <th></th>\n",
       "      <th>query_id</th>\n",
       "      <th>query</th>\n",
       "      <th>table_id</th>\n",
       "      <th>row</th>\n",
       "      <th>col</th>\n",
       "      <th>nul</th>\n",
       "      <th>in_link</th>\n",
       "      <th>out_link</th>\n",
       "      <th>pgcount</th>\n",
       "      <th>tImp</th>\n",
       "      <th>...</th>\n",
       "      <th>remax</th>\n",
       "      <th>resum</th>\n",
       "      <th>reavg</th>\n",
       "      <th>resim</th>\n",
       "      <th>query_l</th>\n",
       "      <th>rel</th>\n",
       "      <th>table_tkn</th>\n",
       "      <th>query_tkn</th>\n",
       "      <th>table_pad</th>\n",
       "      <th>query_pad</th>\n",
       "    </tr>\n",
       "  </thead>\n",
       "  <tbody>\n",
       "    <tr>\n",
       "      <th>0</th>\n",
       "      <td>1</td>\n",
       "      <td>world interest rates Table</td>\n",
       "      <td>table-0875-680</td>\n",
       "      <td>8</td>\n",
       "      <td>2</td>\n",
       "      <td>0</td>\n",
       "      <td>31</td>\n",
       "      <td>21</td>\n",
       "      <td>51438</td>\n",
       "      <td>1.0</td>\n",
       "      <td>...</td>\n",
       "      <td>0.241209</td>\n",
       "      <td>3.716354</td>\n",
       "      <td>0.033785</td>\n",
       "      <td>0.281130</td>\n",
       "      <td>4</td>\n",
       "      <td>0</td>\n",
       "      <td>[[['risk'], []], [[], []], [[], []], [[], []],...</td>\n",
       "      <td>['world_interest_rates', 'table']</td>\n",
       "      <td>[[[2384110], [2384110], [2384110], [2384110], ...</td>\n",
       "      <td>[[[2384110], [2384110], [2384110], [2384110], ...</td>\n",
       "    </tr>\n",
       "    <tr>\n",
       "      <th>1</th>\n",
       "      <td>1</td>\n",
       "      <td>world interest rates Table</td>\n",
       "      <td>table-1020-619</td>\n",
       "      <td>4</td>\n",
       "      <td>3</td>\n",
       "      <td>0</td>\n",
       "      <td>18</td>\n",
       "      <td>0</td>\n",
       "      <td>324</td>\n",
       "      <td>1.0</td>\n",
       "      <td>...</td>\n",
       "      <td>1.000000</td>\n",
       "      <td>8.075247</td>\n",
       "      <td>0.073411</td>\n",
       "      <td>0.710250</td>\n",
       "      <td>4</td>\n",
       "      <td>0</td>\n",
       "      <td>[[['headline'], [], []], [['core'], [], []], [...</td>\n",
       "      <td>['world_interest_rates', 'table']</td>\n",
       "      <td>[[[2384110], [2384110], [2384110], [2384110], ...</td>\n",
       "      <td>[[[2384110], [2384110], [2384110], [2384110], ...</td>\n",
       "    </tr>\n",
       "    <tr>\n",
       "      <th>2</th>\n",
       "      <td>1</td>\n",
       "      <td>world interest rates Table</td>\n",
       "      <td>table-0288-531</td>\n",
       "      <td>3</td>\n",
       "      <td>5</td>\n",
       "      <td>0</td>\n",
       "      <td>23</td>\n",
       "      <td>22</td>\n",
       "      <td>26419</td>\n",
       "      <td>0.5</td>\n",
       "      <td>...</td>\n",
       "      <td>0.067373</td>\n",
       "      <td>0.365818</td>\n",
       "      <td>0.003326</td>\n",
       "      <td>0.033680</td>\n",
       "      <td>4</td>\n",
       "      <td>0</td>\n",
       "      <td>[[['stocks'], [], [], [], []], [['bonds'], [],...</td>\n",
       "      <td>['world_interest_rates', 'table']</td>\n",
       "      <td>[[[2384110], [2384110], [2384110], [2384110], ...</td>\n",
       "      <td>[[[2384110], [2384110], [2384110], [2384110], ...</td>\n",
       "    </tr>\n",
       "    <tr>\n",
       "      <th>3</th>\n",
       "      <td>1</td>\n",
       "      <td>world interest rates Table</td>\n",
       "      <td>table-0288-530</td>\n",
       "      <td>4</td>\n",
       "      <td>5</td>\n",
       "      <td>1</td>\n",
       "      <td>23</td>\n",
       "      <td>22</td>\n",
       "      <td>26419</td>\n",
       "      <td>0.5</td>\n",
       "      <td>...</td>\n",
       "      <td>0.067373</td>\n",
       "      <td>0.365818</td>\n",
       "      <td>0.003326</td>\n",
       "      <td>0.033680</td>\n",
       "      <td>4</td>\n",
       "      <td>0</td>\n",
       "      <td>[[['stocks'], [], [], [], []], [['bonds'], [],...</td>\n",
       "      <td>['world_interest_rates', 'table']</td>\n",
       "      <td>[[[2384110], [2384110], [2384110], [2384110], ...</td>\n",
       "      <td>[[[2384110], [2384110], [2384110], [2384110], ...</td>\n",
       "    </tr>\n",
       "    <tr>\n",
       "      <th>4</th>\n",
       "      <td>1</td>\n",
       "      <td>world interest rates Table</td>\n",
       "      <td>table-1000-57</td>\n",
       "      <td>2</td>\n",
       "      <td>2</td>\n",
       "      <td>0</td>\n",
       "      <td>38</td>\n",
       "      <td>1</td>\n",
       "      <td>2268</td>\n",
       "      <td>1.0</td>\n",
       "      <td>...</td>\n",
       "      <td>0.226134</td>\n",
       "      <td>4.564622</td>\n",
       "      <td>0.041497</td>\n",
       "      <td>0.279899</td>\n",
       "      <td>4</td>\n",
       "      <td>0</td>\n",
       "      <td>[[['t_bills'], ['return']], [['15-year_dated_s...</td>\n",
       "      <td>['world_interest_rates', 'table']</td>\n",
       "      <td>[[[2384110], [2384110], [2384110], [2384110], ...</td>\n",
       "      <td>[[[2384110], [2384110], [2384110], [2384110], ...</td>\n",
       "    </tr>\n",
       "  </tbody>\n",
       "</table>\n",
       "<p>5 rows × 47 columns</p>\n",
       "</div>"
      ],
      "text/plain": [
       "   query_id                       query        table_id  row  col  nul  \\\n",
       "0         1  world interest rates Table  table-0875-680    8    2    0   \n",
       "1         1  world interest rates Table  table-1020-619    4    3    0   \n",
       "2         1  world interest rates Table  table-0288-531    3    5    0   \n",
       "3         1  world interest rates Table  table-0288-530    4    5    1   \n",
       "4         1  world interest rates Table   table-1000-57    2    2    0   \n",
       "\n",
       "   in_link  out_link  pgcount  tImp  ...     remax     resum     reavg  \\\n",
       "0       31        21    51438   1.0  ...  0.241209  3.716354  0.033785   \n",
       "1       18         0      324   1.0  ...  1.000000  8.075247  0.073411   \n",
       "2       23        22    26419   0.5  ...  0.067373  0.365818  0.003326   \n",
       "3       23        22    26419   0.5  ...  0.067373  0.365818  0.003326   \n",
       "4       38         1     2268   1.0  ...  0.226134  4.564622  0.041497   \n",
       "\n",
       "      resim  query_l  rel                                          table_tkn  \\\n",
       "0  0.281130        4    0  [[['risk'], []], [[], []], [[], []], [[], []],...   \n",
       "1  0.710250        4    0  [[['headline'], [], []], [['core'], [], []], [...   \n",
       "2  0.033680        4    0  [[['stocks'], [], [], [], []], [['bonds'], [],...   \n",
       "3  0.033680        4    0  [[['stocks'], [], [], [], []], [['bonds'], [],...   \n",
       "4  0.279899        4    0  [[['t_bills'], ['return']], [['15-year_dated_s...   \n",
       "\n",
       "                           query_tkn  \\\n",
       "0  ['world_interest_rates', 'table']   \n",
       "1  ['world_interest_rates', 'table']   \n",
       "2  ['world_interest_rates', 'table']   \n",
       "3  ['world_interest_rates', 'table']   \n",
       "4  ['world_interest_rates', 'table']   \n",
       "\n",
       "                                           table_pad  \\\n",
       "0  [[[2384110], [2384110], [2384110], [2384110], ...   \n",
       "1  [[[2384110], [2384110], [2384110], [2384110], ...   \n",
       "2  [[[2384110], [2384110], [2384110], [2384110], ...   \n",
       "3  [[[2384110], [2384110], [2384110], [2384110], ...   \n",
       "4  [[[2384110], [2384110], [2384110], [2384110], ...   \n",
       "\n",
       "                                           query_pad  \n",
       "0  [[[2384110], [2384110], [2384110], [2384110], ...  \n",
       "1  [[[2384110], [2384110], [2384110], [2384110], ...  \n",
       "2  [[[2384110], [2384110], [2384110], [2384110], ...  \n",
       "3  [[[2384110], [2384110], [2384110], [2384110], ...  \n",
       "4  [[[2384110], [2384110], [2384110], [2384110], ...  \n",
       "\n",
       "[5 rows x 47 columns]"
      ]
     },
     "execution_count": 120,
     "metadata": {},
     "output_type": "execute_result"
    }
   ],
   "source": [
    "df.head()"
   ]
  },
  {
   "cell_type": "code",
   "execution_count": 127,
   "metadata": {},
   "outputs": [
    {
     "data": {
      "text/plain": [
       "Series([], Name: table_pad, dtype: object)"
      ]
     },
     "execution_count": 127,
     "metadata": {},
     "output_type": "execute_result"
    }
   ],
   "source": [
    "df['table_pad'][df['table_pad'].apply(lambda x:len(np.array(x).shape)!=3)]"
   ]
  },
  {
   "cell_type": "code",
   "execution_count": 130,
   "metadata": {},
   "outputs": [],
   "source": [
    "df['table_pad'] = df['table_pad'].apply(lambda x:x.reshape(75,1))"
   ]
  },
  {
   "cell_type": "code",
   "execution_count": 134,
   "metadata": {},
   "outputs": [],
   "source": [
    "df['query_pad'] = df['query_pad'].apply(lambda x:x.reshape(75,1))"
   ]
  },
  {
   "cell_type": "code",
   "execution_count": 136,
   "metadata": {},
   "outputs": [],
   "source": [
    "savepkl('/home/vibhav_student/1Dcnn/data/baseline_f_tq-tkn-pad_qfix_1D.csv',df)"
   ]
  },
  {
   "cell_type": "code",
   "execution_count": null,
   "metadata": {},
   "outputs": [],
   "source": []
  }
 ],
 "metadata": {
  "kernelspec": {
   "display_name": "Python 3.7.5 64-bit",
   "language": "python",
   "name": "python37564bitb64b7bd534634d14b355f6a5722a54fe"
  },
  "language_info": {
   "codemirror_mode": {
    "name": "ipython",
    "version": 3
   },
   "file_extension": ".py",
   "mimetype": "text/x-python",
   "name": "python",
   "nbconvert_exporter": "python",
   "pygments_lexer": "ipython3",
   "version": "3.7.5"
  }
 },
 "nbformat": 4,
 "nbformat_minor": 2
}
